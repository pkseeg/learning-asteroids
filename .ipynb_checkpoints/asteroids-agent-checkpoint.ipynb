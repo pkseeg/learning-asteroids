{
 "cells": [
  {
   "cell_type": "code",
   "execution_count": 1,
   "metadata": {},
   "outputs": [],
   "source": [
    "import gym\n",
    "\n",
    "import torch\n",
    "import torch.nn as nn\n",
    "import torch.nn.functional as F\n",
    "\n",
    "import random\n",
    "\n",
    "from tqdm.notebook import tqdm"
   ]
  },
  {
   "cell_type": "code",
   "execution_count": 2,
   "metadata": {},
   "outputs": [],
   "source": [
    "# globals\n",
    "STATE_SHAPE = (210, 160, 3)\n",
    "ACTION_SIZE = 14\n",
    "BATCH_SIZE = 32"
   ]
  },
  {
   "cell_type": "code",
   "execution_count": 3,
   "metadata": {},
   "outputs": [],
   "source": [
    "# Q-Value Network\n",
    "class QNetwork(nn.Module):\n",
    "    def __init__(self, state_size, action_size):\n",
    "        super().__init__()\n",
    "        hidden_size = 8\n",
    "        c,h,w = state_size\n",
    "        self.net1 = nn.Sequential(nn.Conv2d(c,64,(3,3),padding=(1,1)),\n",
    "                                    nn.Conv1d(64,64,(3,3),padding=(1,1)),\n",
    "                                    nn.MaxPool2d((3, 3), stride=(2, 2), padding = (1,1), dilation = (1,1)),\n",
    "                                    nn.Conv2d(64,128,(3,3),padding=(1,1)),\n",
    "                                    nn.Conv2d(128,128,(3,3),padding=(1,1)),\n",
    "                                    nn.MaxPool2d((3, 3), stride=(2, 2), padding = (1,1), dilation = (1,1)))\n",
    "        \n",
    "        self.net2 = nn.Sequential(nn.Linear(5120, hidden_size),\n",
    "                            nn.ReLU(),\n",
    "                            nn.Linear(hidden_size, hidden_size),\n",
    "                            nn.ReLU(),\n",
    "                            nn.Linear(hidden_size, hidden_size),\n",
    "                            nn.ReLU(),\n",
    "                            nn.Linear(hidden_size, ACTION_SIZE))  \n",
    "\n",
    "    def forward(self, x):\n",
    "        \"\"\"Estimate q-values given state\n",
    "\n",
    "          Args:\n",
    "              state (tensor): current state, size (batch x state_size)\n",
    "\n",
    "          Returns:\n",
    "              q-values (tensor): estimated q-values, size (batch x action_size)\n",
    "        \"\"\"\n",
    "        a = self.net1(x)\n",
    "        b = a.view(-1, 128*40)\n",
    "        return self.net2(b)"
   ]
  },
  {
   "cell_type": "code",
   "execution_count": 7,
   "metadata": {},
   "outputs": [
    {
     "data": {
      "text/plain": [
       "QNetwork(\n",
       "  (net1): Sequential(\n",
       "    (0): Conv2d(210, 64, kernel_size=(3, 3), stride=(1, 1), padding=(1, 1))\n",
       "    (1): Conv1d(64, 64, kernel_size=(3, 3), stride=(1,), padding=(1, 1))\n",
       "    (2): MaxPool2d(kernel_size=(3, 3), stride=(2, 2), padding=(1, 1), dilation=(1, 1), ceil_mode=False)\n",
       "    (3): Conv2d(64, 128, kernel_size=(3, 3), stride=(1, 1), padding=(1, 1))\n",
       "    (4): Conv2d(128, 128, kernel_size=(3, 3), stride=(1, 1), padding=(1, 1))\n",
       "    (5): MaxPool2d(kernel_size=(3, 3), stride=(2, 2), padding=(1, 1), dilation=(1, 1), ceil_mode=False)\n",
       "  )\n",
       "  (net2): Sequential(\n",
       "    (0): Linear(in_features=5120, out_features=8, bias=True)\n",
       "    (1): ReLU()\n",
       "    (2): Linear(in_features=8, out_features=8, bias=True)\n",
       "    (3): ReLU()\n",
       "    (4): Linear(in_features=8, out_features=8, bias=True)\n",
       "    (5): ReLU()\n",
       "    (6): Linear(in_features=8, out_features=14, bias=True)\n",
       "  )\n",
       ")"
      ]
     },
     "execution_count": 7,
     "metadata": {},
     "output_type": "execute_result"
    }
   ],
   "source": [
    "PATH = \"models/asteroids-model.pt\"\n",
    "q_network = torch.load(PATH,map_location=torch.device('cpu'))\n",
    "q_network.eval()"
   ]
  },
  {
   "cell_type": "code",
   "execution_count": 5,
   "metadata": {},
   "outputs": [],
   "source": [
    "class AsteroidsAgent(object):\n",
    "    def __init__(self, action_space):\n",
    "        self.action_space = action_space\n",
    "\n",
    "    def act(self, observation, reward, done):\n",
    "        x = torch.FloatTensor(observation).unsqueeze(0)\n",
    "        qs = q_network(x)\n",
    "        values, indices = qs.squeeze().max(0)\n",
    "        choice = indices.item()\n",
    "        return choice"
   ]
  },
  {
   "cell_type": "code",
   "execution_count": 6,
   "metadata": {},
   "outputs": [],
   "source": [
    "env = gym.make('Asteroids-v0')\n",
    "env.seed(0)\n",
    "agent = AsteroidsAgent(env.action_space)\n",
    "\n",
    "episode_count = 1\n",
    "reward = 0\n",
    "done = False\n",
    "\n",
    "#count = 0\n",
    "for i in range(episode_count):\n",
    "    ob = env.reset()\n",
    "    while True:\n",
    "        action = agent.act(ob, reward, done)\n",
    "        env.render()\n",
    "        ob, reward, done, _ = env.step(action)\n",
    "        if done:\n",
    "            break\n",
    "        #count += 1\n",
    "        #if count > 10:\n",
    "        #    break\n",
    "env.close()"
   ]
  },
  {
   "cell_type": "code",
   "execution_count": null,
   "metadata": {},
   "outputs": [],
   "source": []
  }
 ],
 "metadata": {
  "kernelspec": {
   "display_name": "Python 3",
   "language": "python",
   "name": "python3"
  },
  "language_info": {
   "codemirror_mode": {
    "name": "ipython",
    "version": 3
   },
   "file_extension": ".py",
   "mimetype": "text/x-python",
   "name": "python",
   "nbconvert_exporter": "python",
   "pygments_lexer": "ipython3",
   "version": "3.5.3"
  }
 },
 "nbformat": 4,
 "nbformat_minor": 2
}
